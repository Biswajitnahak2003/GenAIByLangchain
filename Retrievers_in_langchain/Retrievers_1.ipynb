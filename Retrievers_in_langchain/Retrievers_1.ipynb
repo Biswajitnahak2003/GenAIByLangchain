{
  "nbformat": 4,
  "nbformat_minor": 0,
  "metadata": {
    "colab": {
      "provenance": [],
      "authorship_tag": "ABX9TyPseG5fpSzP0aIVSGu6oKXU",
      "include_colab_link": true
    },
    "kernelspec": {
      "name": "python3",
      "display_name": "Python 3"
    },
    "language_info": {
      "name": "python"
    }
  },
  "cells": [
    {
      "cell_type": "markdown",
      "metadata": {
        "id": "view-in-github",
        "colab_type": "text"
      },
      "source": [
        "<a href=\"https://colab.research.google.com/github/Biswajitnahak2003/GenAIByLangchain/blob/main/Retrievers_in_langchain/Retrievers_1.ipynb\" target=\"_parent\"><img src=\"https://colab.research.google.com/assets/colab-badge.svg\" alt=\"Open In Colab\"/></a>"
      ]
    },
    {
      "cell_type": "markdown",
      "source": [
        "**Retrievers in langchain:**(according to data-source )"
      ],
      "metadata": {
        "id": "AGN_ms2hcWnh"
      }
    },
    {
      "cell_type": "markdown",
      "source": [
        "**1. WikipediaRetriever**"
      ],
      "metadata": {
        "id": "UkNExLchcAjd"
      }
    },
    {
      "cell_type": "code",
      "source": [
        "!pip install wikipedia"
      ],
      "metadata": {
        "colab": {
          "base_uri": "https://localhost:8080/"
        },
        "id": "AoyHxULxZSOA",
        "outputId": "ba2992e6-6b4c-4ab7-bd98-b0ba23ced986"
      },
      "execution_count": 1,
      "outputs": [
        {
          "output_type": "stream",
          "name": "stdout",
          "text": [
            "Collecting wikipedia\n",
            "  Downloading wikipedia-1.4.0.tar.gz (27 kB)\n",
            "  Preparing metadata (setup.py) ... \u001b[?25l\u001b[?25hdone\n",
            "Requirement already satisfied: beautifulsoup4 in /usr/local/lib/python3.11/dist-packages (from wikipedia) (4.13.4)\n",
            "Requirement already satisfied: requests<3.0.0,>=2.0.0 in /usr/local/lib/python3.11/dist-packages (from wikipedia) (2.32.3)\n",
            "Requirement already satisfied: charset-normalizer<4,>=2 in /usr/local/lib/python3.11/dist-packages (from requests<3.0.0,>=2.0.0->wikipedia) (3.4.2)\n",
            "Requirement already satisfied: idna<4,>=2.5 in /usr/local/lib/python3.11/dist-packages (from requests<3.0.0,>=2.0.0->wikipedia) (3.10)\n",
            "Requirement already satisfied: urllib3<3,>=1.21.1 in /usr/local/lib/python3.11/dist-packages (from requests<3.0.0,>=2.0.0->wikipedia) (2.5.0)\n",
            "Requirement already satisfied: certifi>=2017.4.17 in /usr/local/lib/python3.11/dist-packages (from requests<3.0.0,>=2.0.0->wikipedia) (2025.7.14)\n",
            "Requirement already satisfied: soupsieve>1.2 in /usr/local/lib/python3.11/dist-packages (from beautifulsoup4->wikipedia) (2.7)\n",
            "Requirement already satisfied: typing-extensions>=4.0.0 in /usr/local/lib/python3.11/dist-packages (from beautifulsoup4->wikipedia) (4.14.1)\n",
            "Building wheels for collected packages: wikipedia\n",
            "  Building wheel for wikipedia (setup.py) ... \u001b[?25l\u001b[?25hdone\n",
            "  Created wheel for wikipedia: filename=wikipedia-1.4.0-py3-none-any.whl size=11678 sha256=0576db7afdcf6976d4e87769495df6a0e6dd8444aa3a05091d3616611413afc8\n",
            "  Stored in directory: /root/.cache/pip/wheels/8f/ab/cb/45ccc40522d3a1c41e1d2ad53b8f33a62f394011ec38cd71c6\n",
            "Successfully built wikipedia\n",
            "Installing collected packages: wikipedia\n",
            "Successfully installed wikipedia-1.4.0\n"
          ]
        }
      ]
    },
    {
      "cell_type": "code",
      "source": [
        "from google.colab import drive\n",
        "import os\n",
        "from google.colab import userdata"
      ],
      "metadata": {
        "id": "Yk-3nht9ZpvM"
      },
      "execution_count": 2,
      "outputs": []
    },
    {
      "cell_type": "code",
      "source": [
        "drive.mount('/content/drive')"
      ],
      "metadata": {
        "colab": {
          "base_uri": "https://localhost:8080/"
        },
        "id": "WJobUpDOZ5MR",
        "outputId": "f3ad0e79-fe93-48a0-db5e-ac0049a52592"
      },
      "execution_count": 3,
      "outputs": [
        {
          "output_type": "stream",
          "name": "stdout",
          "text": [
            "Mounted at /content/drive\n"
          ]
        }
      ]
    },
    {
      "cell_type": "code",
      "source": [
        "os.environ[\"GOOGLE_API_KEY\"] = userdata.get(\"GOOGLE_API_KEY\")"
      ],
      "metadata": {
        "id": "wJt32PsDaCYu"
      },
      "execution_count": 4,
      "outputs": []
    },
    {
      "cell_type": "code",
      "source": [
        "from langchain_google_genai import GoogleGenerativeAIEmbeddings\n",
        "from langchain_community.retrievers import WikipediaRetriever"
      ],
      "metadata": {
        "id": "IQVOa7a1Wsy3"
      },
      "execution_count": 5,
      "outputs": []
    },
    {
      "cell_type": "code",
      "source": [
        "retriever = WikipediaRetriever(\n",
        "    lang = \"en\",\n",
        "    top_k_results = 2\n",
        ")"
      ],
      "metadata": {
        "id": "uYqMXvy9Wss4"
      },
      "execution_count": 6,
      "outputs": []
    },
    {
      "cell_type": "code",
      "source": [
        "query = \"Gothapatna, Odisha\""
      ],
      "metadata": {
        "id": "CKQQsV_4WsjZ"
      },
      "execution_count": 7,
      "outputs": []
    },
    {
      "cell_type": "code",
      "execution_count": 8,
      "metadata": {
        "id": "puE05w6KWdZN"
      },
      "outputs": [],
      "source": [
        "docs = retriever.invoke(query)"
      ]
    },
    {
      "cell_type": "code",
      "source": [
        "for i,doc in enumerate (docs):\n",
        "  print(f\"Content: {doc.page_content}\")\n",
        "  print(f\"Metadata: {doc.metadata}\\n\")"
      ],
      "metadata": {
        "colab": {
          "base_uri": "https://localhost:8080/"
        },
        "id": "ppC86-rAbhmg",
        "outputId": "ae65e1a3-c047-438e-d461-0d2d183466f4"
      },
      "execution_count": 10,
      "outputs": [
        {
          "output_type": "stream",
          "name": "stdout",
          "text": [
            "Content: Birla Global University (BGU) is a state private university in Bhubaneswar, Odisha, India. BGU was founded in 2015, by Basant Kumar Birla and Sarla Birla and established by the enactment of Birla Global University Odisha Act, 2015. The university campus spread over nearly 30 acres is situated at IDCO, Gothapatna, Bhubaneswar.\n",
            "\n",
            "\n",
            "== Governance ==\n",
            "As per the Act the management of the university is carried out by a Board of Governors headed by Jayshree Mohta, Chairperson, Birla Academy of Art & Culture being the main promoter of Birla Global University. Honorable Governor of Odisha is the chancellor of the university.\n",
            "\n",
            "\n",
            "== Schools ==\n",
            "Birla School of Management: BBA, MBA and Doctoral Program In Management\n",
            "Birla School of Communication: BAJMC, MAJMC and Doctoral Program in Journalism & Mass Communication\n",
            "Birla School of Economics: B.Sc. in Economics, M.Sc. in Financial Economics, Doctoral Program in Economics\n",
            "Birla School of Commerce: B.Com, M.Com and Doctoral Program in Commerce\n",
            "Birla School of Law: BBA LL.B (Hons), LLM and Doctoral Program in Law\n",
            "Birla School of Applied Sciences:BCA, MCA and Doctoral Program in Computer Science\n",
            "Birla School of Engineering & Technolog: B.Tech In Computer Science & Engineering\n",
            "\n",
            "\n",
            "== References ==\n",
            "\n",
            "\n",
            "== External links ==\n",
            "Official website\n",
            "Metadata: {'title': 'Birla Global University', 'summary': 'Birla Global University (BGU) is a state private university in Bhubaneswar, Odisha, India. BGU was founded in 2015, by Basant Kumar Birla and Sarla Birla and established by the enactment of Birla Global University Odisha Act, 2015. The university campus spread over nearly 30 acres is situated at IDCO, Gothapatna, Bhubaneswar.', 'source': 'https://en.wikipedia.org/wiki/Birla_Global_University'}\n",
            "\n",
            "Content: International Institute of Information Technology, Bhubaneswar (IIIT-BH) is a state university located in Bhubaneswar, Odisha, India. It was established in 2006 under the IIIT Act of 2004 by the Government of Odisha.\n",
            "The institute offers undergraduate and postgraduate programs in the fields of Information Technology, Electrical and Electronics, Electronics and Communication, Computer Engineering, and Computer Science. MTech and PhD programs are also available in Computer Science and Electronics and Communication. The institute is a unitary technical university recognised by the University Grants Commission (India).\n",
            "The campus is located in Gothapatna, Bhubaneswar, and is spread over 36 acres of land. It houses classrooms, laboratories, a library, separate hostels for boys and girls, faculty living quarters, sports facilities, and an auditorium.\n",
            "\n",
            "\n",
            "== History ==\n",
            "IIIT Bhubaneswar was initiated by the Government of Odisha and registered as a society in 2006, with the goal of providing quality technical education in the field of Information Technology. The institute started operating in September 2007 with the first batch of undergraduate students.On 9th Oct 2009 Chief minister Naveen Patnaik officially inaugurated the newly constructed campus of Institute.\n",
            "The institute owes its origins to the private initiative of the Government of Odisha, which recognized the need for a technical university that could provide quality education in the field of Information Technology. In 2005, the then President of India, Dr. APJ Abdul Kalam, laid the foundation stone for the institute.\n",
            "The institute is also recognized as a University Grants Commission (India) (UGC) recognised Unitary Technical University.\n",
            "\n",
            "\n",
            "== Academics ==\n",
            "\n",
            "\n",
            "=== Academic programmes ===\n",
            "The institute offers undergraduate and postgraduate programmes. Undergraduate programs award BTech in information technology and areas of Electrical and Electronics, Electronics and Communication, information Technology and computer science. MTech and PhD programmes are available in computer science and electronics and communication. The institute is a University Grants Commission (India) recognised Unitary Technical University.\n",
            "\n",
            "\n",
            "== References ==\n",
            "Metadata: {'title': 'International Institute of Information Technology, Bhubaneswar', 'summary': 'International Institute of Information Technology, Bhubaneswar (IIIT-BH) is a state university located in Bhubaneswar, Odisha, India. It was established in 2006 under the IIIT Act of 2004 by the Government of Odisha.\\nThe institute offers undergraduate and postgraduate programs in the fields of Information Technology, Electrical and Electronics, Electronics and Communication, Computer Engineering, and Computer Science. MTech and PhD programs are also available in Computer Science and Electronics and Communication. The institute is a unitary technical university recognised by the University Grants Commission (India).\\nThe campus is located in Gothapatna, Bhubaneswar, and is spread over 36 acres of land. It houses classrooms, laboratories, a library, separate hostels for boys and girls, faculty living quarters, sports facilities, and an auditorium.', 'source': 'https://en.wikipedia.org/wiki/International_Institute_of_Information_Technology,_Bhubaneswar'}\n",
            "\n"
          ]
        }
      ]
    },
    {
      "cell_type": "markdown",
      "source": [
        "**2. VectorstoreRetriever**"
      ],
      "metadata": {
        "id": "IHhnaQLXctJ7"
      }
    },
    {
      "cell_type": "code",
      "source": [
        "from langchain_community.vectorstores import FAISS\n",
        "from langchain_google_genai import GoogleGenerativeAIEmbeddings\n",
        "from langchain.schema import Document"
      ],
      "metadata": {
        "id": "3wyPZhGQbmpN"
      },
      "execution_count": 11,
      "outputs": []
    },
    {
      "cell_type": "code",
      "source": [
        "docs = [\n",
        "    Document(page_content=\"The sun is a star and the center of our solar system.\"),\n",
        "    Document(page_content=\"The moon is Earth's only natural satellite.\"),\n",
        "    Document(page_content=\"Jupiter is the largest planet in our solar system; it is a gas giant.\"),\n",
        "    Document(page_content=\"Mars is the fourth planet from the Sun and is known as the Red Planet.\")\n",
        "]"
      ],
      "metadata": {
        "id": "9highsOQdRiS"
      },
      "execution_count": 12,
      "outputs": []
    },
    {
      "cell_type": "code",
      "source": [
        "embeddings = GoogleGenerativeAIEmbeddings(model=\"models/gemini-embedding-001\")"
      ],
      "metadata": {
        "id": "jjBcv3u-dYv1"
      },
      "execution_count": 13,
      "outputs": []
    },
    {
      "cell_type": "code",
      "source": [
        "docs = FAISS.from_documents(docs, embeddings)"
      ],
      "metadata": {
        "id": "kpCgpEq9di2n"
      },
      "execution_count": 14,
      "outputs": []
    },
    {
      "cell_type": "code",
      "source": [
        "retriever = docs.as_retriever(search_kwargs={\"k\": 2})"
      ],
      "metadata": {
        "id": "S-CKkIYedrM-"
      },
      "execution_count": 15,
      "outputs": []
    },
    {
      "cell_type": "code",
      "source": [
        "query = \"Which planet is the biggest?\"\n",
        "retrieved_docs = retriever.invoke(query)"
      ],
      "metadata": {
        "id": "bNUSpwaoeVTO"
      },
      "execution_count": 16,
      "outputs": []
    },
    {
      "cell_type": "code",
      "source": [
        "print(retrieved_docs)"
      ],
      "metadata": {
        "colab": {
          "base_uri": "https://localhost:8080/"
        },
        "id": "LyZH1bDqem1N",
        "outputId": "c816557f-5385-4ff0-833f-9cd71fd4b149"
      },
      "execution_count": 21,
      "outputs": [
        {
          "output_type": "stream",
          "name": "stdout",
          "text": [
            "[Document(id='57334492-7d33-417a-a4ba-68df3ec61904', metadata={}, page_content='Jupiter is the largest planet in our solar system; it is a gas giant.'), Document(id='77adff8a-aa67-45bf-b1e7-3c34daa89be5', metadata={}, page_content='Mars is the fourth planet from the Sun and is known as the Red Planet.')]\n"
          ]
        }
      ]
    },
    {
      "cell_type": "code",
      "source": [],
      "metadata": {
        "id": "WqK5l9upepbW"
      },
      "execution_count": null,
      "outputs": []
    }
  ]
}