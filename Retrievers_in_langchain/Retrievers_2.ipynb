{
  "nbformat": 4,
  "nbformat_minor": 0,
  "metadata": {
    "colab": {
      "provenance": [],
      "authorship_tag": "ABX9TyO8O2foQxTnQhY6+XArxsIO",
      "include_colab_link": true
    },
    "kernelspec": {
      "name": "python3",
      "display_name": "Python 3"
    },
    "language_info": {
      "name": "python"
    }
  },
  "cells": [
    {
      "cell_type": "markdown",
      "metadata": {
        "id": "view-in-github",
        "colab_type": "text"
      },
      "source": [
        "<a href=\"https://colab.research.google.com/github/Biswajitnahak2003/GenAIByLangchain/blob/main/Retrievers_in_langchain/Retrievers_2.ipynb\" target=\"_parent\"><img src=\"https://colab.research.google.com/assets/colab-badge.svg\" alt=\"Open In Colab\"/></a>"
      ]
    },
    {
      "cell_type": "markdown",
      "source": [
        "**Retrivers in langchain**(based on retrieving)"
      ],
      "metadata": {
        "id": "d8zuMOyUUyvN"
      }
    },
    {
      "cell_type": "markdown",
      "source": [
        "* 1. Maximum Marginal Relevance*(MMR)"
      ],
      "metadata": {
        "id": "5BBzMAlGUyer"
      }
    },
    {
      "cell_type": "code",
      "source": [
        "from langchain_google_genai import GoogleGenerativeAIEmbeddings\n",
        "from langchain_community.vectorstores import FAISS\n",
        "from langchain.schema import Document"
      ],
      "metadata": {
        "id": "Kmx-bGreOoTW"
      },
      "execution_count": 1,
      "outputs": []
    },
    {
      "cell_type": "code",
      "source": [
        "import os\n",
        "from google.colab import drive\n",
        "drive.mount('/content/drive')"
      ],
      "metadata": {
        "colab": {
          "base_uri": "https://localhost:8080/"
        },
        "id": "VBgjrT_IPO-s",
        "outputId": "5ae33ac4-2956-4bba-dff6-ae8e39e68c96"
      },
      "execution_count": 2,
      "outputs": [
        {
          "output_type": "stream",
          "name": "stdout",
          "text": [
            "Drive already mounted at /content/drive; to attempt to forcibly remount, call drive.mount(\"/content/drive\", force_remount=True).\n"
          ]
        }
      ]
    },
    {
      "cell_type": "code",
      "source": [
        "from google.colab import userdata\n",
        "os.environ[\"GOOGLE_API_KEY\"] = userdata.get(\"GOOGLE_API_KEY\")"
      ],
      "metadata": {
        "id": "1zNbYvRjPZ1Q"
      },
      "execution_count": 3,
      "outputs": []
    },
    {
      "cell_type": "code",
      "source": [
        "docs = [\n",
        "    Document(\n",
        "        page_content=\"Python is a high-level, general-purpose programming language. Its design philosophy emphasizes code readability with the use of significant indentation.\"\n",
        "    ),\n",
        "    Document(\n",
        "        page_content=\"The syntax of Python is known for being clean and expressive, allowing developers to write clear, logical code for small and large-scale projects.\"\n",
        "    ),\n",
        "    Document(\n",
        "        page_content=\"For web development, Python's most popular framework is Django, which enables rapid development of secure and maintainable websites.\"\n",
        "    ),\n",
        "    Document(\n",
        "        page_content=\"In data science, Python is the dominant language, with libraries like Pandas, NumPy, and Scikit-learn providing powerful tools for analysis and machine learning.\"\n",
        "    )\n",
        "]"
      ],
      "metadata": {
        "id": "va0MaNzMQrZ4"
      },
      "execution_count": 4,
      "outputs": []
    },
    {
      "cell_type": "code",
      "source": [
        "embedding = GoogleGenerativeAIEmbeddings(model = \"models/gemini-embedding-001\")\n",
        "docs = FAISS.from_documents(docs, embedding)"
      ],
      "metadata": {
        "id": "aQ3Zer01S5Pk"
      },
      "execution_count": 5,
      "outputs": []
    },
    {
      "cell_type": "code",
      "source": [
        "query = \"Tell me about the Python language.\"\n",
        "mmr_retriever = docs.as_retriever(search_type=\"mmr\", search_kwargs={\"k\": 2})\n",
        "mmr_results = mmr_retriever.invoke(query)"
      ],
      "metadata": {
        "id": "fRxmsHXLTVPd"
      },
      "execution_count": 6,
      "outputs": []
    },
    {
      "cell_type": "code",
      "source": [
        "standard_retriever = docs.as_retriever(search_kwargs={\"k\": 2})\n",
        "standard_results = standard_retriever.invoke(query)"
      ],
      "metadata": {
        "id": "4JkWIuJmUBEb"
      },
      "execution_count": 7,
      "outputs": []
    },
    {
      "cell_type": "code",
      "source": [
        "for doc in standard_results:\n",
        "    print(f\"- {doc.page_content}\")"
      ],
      "metadata": {
        "colab": {
          "base_uri": "https://localhost:8080/"
        },
        "id": "wgIRzZgCUGMl",
        "outputId": "de121a29-d8e8-4418-db36-29ec5815ef76"
      },
      "execution_count": 8,
      "outputs": [
        {
          "output_type": "stream",
          "name": "stdout",
          "text": [
            "- Python is a high-level, general-purpose programming language. Its design philosophy emphasizes code readability with the use of significant indentation.\n",
            "- The syntax of Python is known for being clean and expressive, allowing developers to write clear, logical code for small and large-scale projects.\n"
          ]
        }
      ]
    },
    {
      "cell_type": "code",
      "source": [
        "for doc in mmr_results:\n",
        "    print(f\"- {doc.page_content}\")"
      ],
      "metadata": {
        "colab": {
          "base_uri": "https://localhost:8080/"
        },
        "id": "MHsRHf7xTsns",
        "outputId": "1fb0b9be-36eb-4768-de15-be2bfc72853d"
      },
      "execution_count": 9,
      "outputs": [
        {
          "output_type": "stream",
          "name": "stdout",
          "text": [
            "- Python is a high-level, general-purpose programming language. Its design philosophy emphasizes code readability with the use of significant indentation.\n",
            "- For web development, Python's most popular framework is Django, which enables rapid development of secure and maintainable websites.\n"
          ]
        }
      ]
    },
    {
      "cell_type": "code",
      "source": [],
      "metadata": {
        "id": "ZmhYdjt_T2i1"
      },
      "execution_count": 9,
      "outputs": []
    },
    {
      "cell_type": "code",
      "source": [],
      "metadata": {
        "id": "2ggUg8m2Vdn0"
      },
      "execution_count": null,
      "outputs": []
    },
    {
      "cell_type": "markdown",
      "source": [
        "*2. MultiQueryRetriever*"
      ],
      "metadata": {
        "id": "UiuVeDJjVfE0"
      }
    },
    {
      "cell_type": "code",
      "source": [
        "from langchain.retrievers.multi_query import MultiQueryRetriever"
      ],
      "metadata": {
        "id": "dt5nNWgNVdjq"
      },
      "execution_count": 10,
      "outputs": []
    },
    {
      "cell_type": "code",
      "source": [
        "docs = [\n",
        "    Document(page_content=\"India won the 2024 T20 World Cup, beating South Africa by 7 runs in a thrilling final. The match was held in Barbados.\"),\n",
        "    Document(page_content=\"Virat Kohli was named Player of the Match for his crucial innings of 76 runs, which anchored the Indian batting effort.\"),\n",
        "    Document(page_content=\"A spectacular catch by Suryakumar Yadav at the boundary in the final over was a major turning point, dismissing David Miller.\"),\n",
        "    Document(page_content=\"Hardik Pandya bowled the final over, defending 16 runs to secure the victory for India. He took the key wicket of David Miller.\")\n",
        "]"
      ],
      "metadata": {
        "id": "CyTjZXinVdgi"
      },
      "execution_count": 11,
      "outputs": []
    },
    {
      "cell_type": "code",
      "source": [
        "embeddings = GoogleGenerativeAIEmbeddings(model=\"models/gemini-embedding-001\")\n",
        "db = FAISS.from_documents(docs, embeddings)\n",
        "retriever = db.as_retriever(search_kwargs={\"k\": 2})"
      ],
      "metadata": {
        "id": "1XDB1N0jVddb"
      },
      "execution_count": 12,
      "outputs": []
    },
    {
      "cell_type": "code",
      "source": [
        "from langchain_google_genai import ChatGoogleGenerativeAI\n",
        "llm = ChatGoogleGenerativeAI(model=\"gemini-1.5-flash\", temperature=0)"
      ],
      "metadata": {
        "id": "9fjBhhsQWgg6"
      },
      "execution_count": 13,
      "outputs": []
    },
    {
      "cell_type": "code",
      "source": [
        "mq_retriever = MultiQueryRetriever.from_llm(\n",
        "    retriever=retriever, llm=llm\n",
        ")"
      ],
      "metadata": {
        "id": "Y2Pz5q9cW1Y7"
      },
      "execution_count": 16,
      "outputs": []
    },
    {
      "cell_type": "code",
      "source": [
        "query = \"Tell me about the final match.\"\n",
        "retrieved_docs = mq_retriever.invoke(query)"
      ],
      "metadata": {
        "id": "3gfOpxMUW5V6"
      },
      "execution_count": 17,
      "outputs": []
    },
    {
      "cell_type": "code",
      "source": [
        "for doc in retrieved_docs:\n",
        "    print(f\"- {doc.page_content}\")"
      ],
      "metadata": {
        "colab": {
          "base_uri": "https://localhost:8080/"
        },
        "id": "_JQK0NZ0XHtk",
        "outputId": "d5263a3a-88a7-4cee-b7fa-fce1add924a7"
      },
      "execution_count": 18,
      "outputs": [
        {
          "output_type": "stream",
          "name": "stdout",
          "text": [
            "- India won the 2024 T20 World Cup, beating South Africa by 7 runs in a thrilling final. The match was held in Barbados.\n",
            "- Virat Kohli was named Player of the Match for his crucial innings of 76 runs, which anchored the Indian batting effort.\n",
            "- A spectacular catch by Suryakumar Yadav at the boundary in the final over was a major turning point, dismissing David Miller.\n"
          ]
        }
      ]
    },
    {
      "cell_type": "code",
      "source": [],
      "metadata": {
        "id": "AUYvESZkXbPT"
      },
      "execution_count": null,
      "outputs": []
    },
    {
      "cell_type": "code",
      "source": [],
      "metadata": {
        "id": "gldIjRpJZpTo"
      },
      "execution_count": null,
      "outputs": []
    },
    {
      "cell_type": "code",
      "source": [],
      "metadata": {
        "id": "S7ktRDWsZpPd"
      },
      "execution_count": null,
      "outputs": []
    },
    {
      "cell_type": "markdown",
      "source": [
        "*3. Contextual Compression Retriever*"
      ],
      "metadata": {
        "id": "_XGaN76kZp0l"
      }
    },
    {
      "cell_type": "code",
      "source": [
        "from langchain.retrievers.document_compressors import LLMChainExtractor\n",
        "from langchain.retrievers.contextual_compression import ContextualCompressionRetriever"
      ],
      "metadata": {
        "id": "9nY0GOo2ZpMD"
      },
      "execution_count": 20,
      "outputs": []
    },
    {
      "cell_type": "code",
      "source": [
        "docs = [\n",
        "    Document(\n",
        "        page_content=\"The 2024 T20 World Cup final was held in Barbados. It was a sunny day with a slight breeze, perfect for cricket. India scored 176 runs, with Virat Kohli making a crucial 76. The stadium was packed with fans from both nations.\"\n",
        "    ),\n",
        "    Document(\n",
        "        page_content=\"South Africa's chase was intense. Heinrich Klaasen played a blistering knock, but Hardik Pandya's final over secured a 7-run victory for India. After the match, the Indian team celebrated their historic win.\"\n",
        "    )\n",
        "]\n"
      ],
      "metadata": {
        "id": "a4HeeI49ZpJI"
      },
      "execution_count": 21,
      "outputs": []
    },
    {
      "cell_type": "code",
      "source": [
        "embeddings = GoogleGenerativeAIEmbeddings(model=\"models/gemini-embedding-001\")\n",
        "db = FAISS.from_documents(docs, embeddings)\n",
        "base_retriever = db.as_retriever(search_kwargs={\"k\": 2})"
      ],
      "metadata": {
        "id": "2yq02KnJZpBH"
      },
      "execution_count": 22,
      "outputs": []
    },
    {
      "cell_type": "code",
      "source": [
        "llm = ChatGoogleGenerativeAI(model=\"gemini-1.5-flash\", temperature=0)\n",
        "compressor = LLMChainExtractor.from_llm(llm)"
      ],
      "metadata": {
        "id": "x7VNpyeSZo-D"
      },
      "execution_count": 24,
      "outputs": []
    },
    {
      "cell_type": "code",
      "source": [
        "compression_retriever = ContextualCompressionRetriever(\n",
        "    base_compressor=compressor,\n",
        "    base_retriever=base_retriever\n",
        ")"
      ],
      "metadata": {
        "id": "EXOKXmBqatNZ"
      },
      "execution_count": 25,
      "outputs": []
    },
    {
      "cell_type": "code",
      "source": [
        "query = \"What was Virat Kohli's score?\"\n",
        "retrieved_docs = compression_retriever.invoke(query)"
      ],
      "metadata": {
        "id": "5ucW_UrcatKn"
      },
      "execution_count": 26,
      "outputs": []
    },
    {
      "cell_type": "code",
      "source": [
        "for doc in retrieved_docs:\n",
        "    print(f\"- {doc.page_content}\")"
      ],
      "metadata": {
        "colab": {
          "base_uri": "https://localhost:8080/"
        },
        "id": "xhzfjcmDatHi",
        "outputId": "3a950631-9b3d-4003-ca0f-c38ffefe062e"
      },
      "execution_count": 27,
      "outputs": [
        {
          "output_type": "stream",
          "name": "stdout",
          "text": [
            "- Virat Kohli making a crucial 76.\n"
          ]
        }
      ]
    },
    {
      "cell_type": "code",
      "source": [],
      "metadata": {
        "id": "6hJXU7GAbOA8"
      },
      "execution_count": null,
      "outputs": []
    }
  ]
}