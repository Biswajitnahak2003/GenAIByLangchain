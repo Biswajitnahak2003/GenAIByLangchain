{
  "nbformat": 4,
  "nbformat_minor": 0,
  "metadata": {
    "colab": {
      "provenance": [],
      "authorship_tag": "ABX9TyNU6vB/yf+GdlThF8+YJs1n",
      "include_colab_link": true
    },
    "kernelspec": {
      "name": "python3",
      "display_name": "Python 3"
    },
    "language_info": {
      "name": "python"
    }
  },
  "cells": [
    {
      "cell_type": "markdown",
      "metadata": {
        "id": "view-in-github",
        "colab_type": "text"
      },
      "source": [
        "<a href=\"https://colab.research.google.com/github/Biswajitnahak2003/GenAIByLangchain/blob/main/vectorstores_in_langchain/my_faiss_notebook.ipynb\" target=\"_parent\"><img src=\"https://colab.research.google.com/assets/colab-badge.svg\" alt=\"Open In Colab\"/></a>"
      ]
    },
    {
      "cell_type": "code",
      "source": [
        "from langchain_google_genai import GoogleGenerativeAIEmbeddings\n",
        "from langchain_community.vectorstores import FAISS\n",
        "from langchain.schema import Document"
      ],
      "metadata": {
        "id": "15HbRImjl_HX"
      },
      "execution_count": 5,
      "outputs": []
    },
    {
      "cell_type": "code",
      "source": [
        "import os\n",
        "from google.colab import userdata\n",
        "os.environ[\"GOOGLE_API_KEY\"] = userdata.get(\"GOOGLE_API_KEY\")"
      ],
      "metadata": {
        "id": "ZOnn94-cmpVq"
      },
      "execution_count": 6,
      "outputs": []
    },
    {
      "cell_type": "code",
      "source": [
        "embeddings = GoogleGenerativeAIEmbeddings(\n",
        "    model=\"models/gemini-embedding-001\"\n",
        ")"
      ],
      "metadata": {
        "id": "5CaIBcqin-yl"
      },
      "execution_count": 8,
      "outputs": []
    },
    {
      "cell_type": "code",
      "source": [
        "doc1 = Document(\n",
        "    page_content=\"The sun is a star at the center of our solar system. It is a nearly perfect ball of hot plasma.\",\n",
        "    metadata={\"source\": \"space-facts-sun\"}\n",
        ")\n",
        "doc2 = Document(\n",
        "    page_content=\"The moon is Earth's only natural satellite. It is the fifth largest satellite in the Solar System.\",\n",
        "    metadata={\"source\": \"space-facts-moon\"}\n",
        ")\n",
        "doc3 = Document(\n",
        "    page_content=\"Jupiter is the largest planet in our solar system. It is a gas giant primarily composed of hydrogen.\",\n",
        "    metadata={\"source\": \"space-facts-jupiter\"}\n",
        ")\n",
        "docs = [doc1, doc2, doc3]"
      ],
      "metadata": {
        "id": "8o5t4GrrofeH"
      },
      "execution_count": 17,
      "outputs": []
    },
    {
      "cell_type": "code",
      "source": [
        "from google.colab import drive\n",
        "drive.mount('/content/drive')"
      ],
      "metadata": {
        "colab": {
          "base_uri": "https://localhost:8080/"
        },
        "id": "WTlJQBocsqTW",
        "outputId": "0f8a6691-aa8d-4041-c4b1-fab18614731f"
      },
      "execution_count": 11,
      "outputs": [
        {
          "output_type": "stream",
          "name": "stdout",
          "text": [
            "Mounted at /content/drive\n"
          ]
        }
      ]
    },
    {
      "cell_type": "code",
      "source": [
        "persist_directory = \"/content/drive/MyDrive/Colab_Indexes/my_faiss_index\"\n",
        "vectorstores = FAISS.from_documents(\n",
        "    documents=docs,\n",
        "    embedding=embeddings\n",
        ")\n",
        "vectorstores.save_local(persist_directory)"
      ],
      "metadata": {
        "id": "-Qn_EwtNo_FM"
      },
      "execution_count": 18,
      "outputs": []
    },
    {
      "cell_type": "code",
      "source": [
        "vectorstores.add_documents(docs)"
      ],
      "metadata": {
        "colab": {
          "base_uri": "https://localhost:8080/"
        },
        "id": "zIgf_EHgpc8E",
        "outputId": "e59ab17e-b553-44be-b0c7-be75defca766"
      },
      "execution_count": 19,
      "outputs": [
        {
          "output_type": "execute_result",
          "data": {
            "text/plain": [
              "['d0552fd4-c349-49d8-b41c-1810b52ab7f5',\n",
              " '9509a4aa-4f3d-40a1-82f8-aded51c574c2',\n",
              " '84b062e9-9a87-4939-aba5-2b6ce2032e64']"
            ]
          },
          "metadata": {},
          "execution_count": 19
        }
      ]
    },
    {
      "cell_type": "code",
      "source": [
        "query = \"what is the biggest planet?\"\n",
        "vectorstores.similarity_search(query, k = 1)"
      ],
      "metadata": {
        "colab": {
          "base_uri": "https://localhost:8080/"
        },
        "id": "vJMyJlxwtyC2",
        "outputId": "85cde1e1-c1bb-42ec-9855-ae7b88b3322b"
      },
      "execution_count": 21,
      "outputs": [
        {
          "output_type": "execute_result",
          "data": {
            "text/plain": [
              "[Document(id='59f57b00-fe4f-4bba-bf39-77760a0d7861', metadata={'source': 'space-facts-jupiter'}, page_content='Jupiter is the largest planet in our solar system. It is a gas giant primarily composed of hydrogen.')]"
            ]
          },
          "metadata": {},
          "execution_count": 21
        }
      ]
    },
    {
      "cell_type": "code",
      "source": [],
      "metadata": {
        "id": "2qci11qAuHEG"
      },
      "execution_count": null,
      "outputs": []
    },
    {
      "cell_type": "code",
      "source": [],
      "metadata": {
        "id": "hNQCXYOCx_2x"
      },
      "execution_count": null,
      "outputs": []
    }
  ]
}